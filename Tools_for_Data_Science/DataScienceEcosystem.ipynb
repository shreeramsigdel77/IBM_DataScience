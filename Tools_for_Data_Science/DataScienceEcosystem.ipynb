{
 "cells": [
  {
   "cell_type": "markdown",
   "id": "0d81db08-c9b3-4748-a915-e9051e6696c7",
   "metadata": {},
   "source": [
    "# Data Science Tools and Ecosystem"
   ]
  },
  {
   "cell_type": "markdown",
   "id": "765c4876-d535-4c29-a160-32d50931a89c",
   "metadata": {},
   "source": [
    "In this notebook, Data Science Tools and Ecosystem are summarized."
   ]
  },
  {
   "cell_type": "markdown",
   "id": "5c7c8861-eec5-4439-b0f1-80ba98e953d8",
   "metadata": {},
   "source": [
    "**Objectives:**\n",
    "\n",
    "- Popular languages that Data Scientists uses.\n",
    "- Commonly used Data Science libraries.\n",
    "- Data Science Tools\n",
    "- Arithmetic expression examples with Python."
   ]
  },
  {
   "cell_type": "markdown",
   "id": "d38dbcd0-efd7-4593-8b5d-8cc3ad3984d9",
   "metadata": {},
   "source": [
    "## Some of the popular languages that Data Scientists use are:\n",
    "\n",
    "1. **Python:** Widely used for data analysis, machine learning, and building data science models. Popular libraries include NumPy, Pandas, and scikit-learn.\n",
    "\n",
    "2. **R:** Commonly used for statistical analysis and visualization. It has a rich ecosystem of packages like ggplot2 and dplyr.\n",
    "\n",
    "3. **SQL:** Essential for working with databases. Data scientists often use SQL to query and manipulate data stored in relational databases.\n",
    "\n",
    "4. **Julia:** A high-level, high-performance programming language for technical computing, often used for numerical and scientific computing.\n",
    "\n",
    "5. **Scala:** Known for its use in Apache Spark, a distributed computing system widely used in big data processing.\n"
   ]
  },
  {
   "cell_type": "markdown",
   "id": "6e5d6692-f162-4de6-abd8-8a0b113bc751",
   "metadata": {},
   "source": [
    "## Some of the commonly used libraries used by Data Scientists include:\n",
    "\n",
    "1. **NumPy:** A powerful library for numerical computing in Python. It provides support for large, multi-dimensional arrays and matrices.\n",
    "\n",
    "2. **Pandas:** A data manipulation and analysis library for Python. It offers data structures like DataFrame for efficient data handling.\n",
    "\n",
    "3. **scikit-learn:** A machine learning library in Python. It provides simple and efficient tools for data mining and data analysis.\n",
    "\n",
    "4. **Matplotlib:** A plotting library for the Python programming language and its numerical mathematics extension NumPy.\n",
    "\n",
    "5. **Seaborn:** A statistical data visualization library based on Matplotlib. It provides a high-level interface for drawing attractive and informative statistical graphics.\n",
    "\n",
    "Feel free to explore these libraries to enhance your data science projects!\n"
   ]
  },
  {
   "cell_type": "markdown",
   "id": "c4403dc8-f542-447c-a10c-1bf69a0bfa68",
   "metadata": {},
   "source": [
    "## Data Science Tools\n",
    "\n",
    "| Development Environment Tools |\n",
    "| ----------------------------- |\n",
    "| Jupyter Notebooks             |\n",
    "| RStudio                       |\n",
    "| VS Code + Python Extension    |\n"
   ]
  },
  {
   "cell_type": "markdown",
   "id": "aa03f700-85f9-4278-9628-5a3aed06eea1",
   "metadata": {},
   "source": [
    "### Below are a few examples of evaluating arithmetic expressions in Python."
   ]
  },
  {
   "cell_type": "code",
   "execution_count": 1,
   "id": "d291f88b-7098-404e-9425-1d5389775166",
   "metadata": {},
   "outputs": [
    {
     "data": {
      "text/plain": [
       "17"
      ]
     },
     "execution_count": 1,
     "metadata": {},
     "output_type": "execute_result"
    }
   ],
   "source": [
    "# This a simple arithmetic expression to mutiply then add integers\n",
    "(3*4)+5"
   ]
  },
  {
   "cell_type": "code",
   "execution_count": 2,
   "id": "9d01c288-b6ed-4dcd-be67-f3dd79162070",
   "metadata": {},
   "outputs": [
    {
     "data": {
      "text/plain": [
       "3.3333333333333335"
      ]
     },
     "execution_count": 2,
     "metadata": {},
     "output_type": "execute_result"
    }
   ],
   "source": [
    "# This will convert 200 minutes to hours by diving by 60\n",
    "200/60"
   ]
  },
  {
   "cell_type": "markdown",
   "id": "00e4f72a-7e84-45e8-8e0b-f7cc93bb5151",
   "metadata": {},
   "source": [
    "## Author\n",
    "\n",
    "Shree Ram Sigdel"
   ]
  },
  {
   "cell_type": "code",
   "execution_count": null,
   "id": "61cff9f5-5a8b-438c-9059-c4f6cad0187b",
   "metadata": {},
   "outputs": [],
   "source": []
  }
 ],
 "metadata": {
  "kernelspec": {
   "display_name": "Python 3 (ipykernel)",
   "language": "python",
   "name": "python3"
  },
  "language_info": {
   "codemirror_mode": {
    "name": "ipython",
    "version": 3
   },
   "file_extension": ".py",
   "mimetype": "text/x-python",
   "name": "python",
   "nbconvert_exporter": "python",
   "pygments_lexer": "ipython3",
   "version": "3.8.10"
  }
 },
 "nbformat": 4,
 "nbformat_minor": 5
}
